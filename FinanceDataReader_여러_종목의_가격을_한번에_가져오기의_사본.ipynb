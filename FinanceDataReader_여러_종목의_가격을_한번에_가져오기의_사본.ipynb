{
  "nbformat": 4,
  "nbformat_minor": 0,
  "metadata": {
    "colab": {
      "name": "FinanceDataReader - 여러 종목의 가격을 한번에 가져오기의 사본",
      "version": "0.3.2",
      "provenance": [],
      "collapsed_sections": [],
      "include_colab_link": true
    },
    "kernelspec": {
      "name": "python3",
      "display_name": "Python 3"
    }
  },
  "cells": [
    {
      "cell_type": "markdown",
      "metadata": {
        "id": "view-in-github",
        "colab_type": "text"
      },
      "source": [
        "<a href=\"https://colab.research.google.com/github/Park-Youngjeung/Park-Youngjeung.github.io/blob/master/FinanceDataReader_%EC%97%AC%EB%9F%AC_%EC%A2%85%EB%AA%A9%EC%9D%98_%EA%B0%80%EA%B2%A9%EC%9D%84_%ED%95%9C%EB%B2%88%EC%97%90_%EA%B0%80%EC%A0%B8%EC%98%A4%EA%B8%B0%EC%9D%98_%EC%82%AC%EB%B3%B8.ipynb\" target=\"_parent\"><img src=\"https://colab.research.google.com/assets/colab-badge.svg\" alt=\"Open In Colab\"/></a>"
      ]
    },
    {
      "metadata": {
        "id": "frdXxoM3W4X6",
        "colab_type": "text"
      },
      "cell_type": "markdown",
      "source": [
        "# FinanceDataReader 여러 종목의 가격을 한번에 가져오기\n",
        "\n",
        "* 종목별로 따로 가져와 리스트로 만들고\n",
        "* pd.concat()로 합쳐 하나의 DataFrame 으로 만들 수 있습니다"
      ]
    },
    {
      "metadata": {
        "id": "y0wlC68jXSfJ",
        "colab_type": "code",
        "colab": {
          "base_uri": "https://localhost:8080/",
          "height": 323
        },
        "outputId": "d7eca4bf-b3f3-43ab-ed84-fa34db4e16cf"
      },
      "cell_type": "code",
      "source": [
        "#working directory : /home/stock\n",
        "\n",
        "# reference site :\n",
        "# https://github.com/FinanceData/FinanceDataReader/wiki/Users-Guide?fbclid=IwAR2NI6fxeaM-8182lkeJv80O2CZHU3hjGt2So-zbq3V2De_mtf5NuNtv8Ck\n",
        "\n",
        "# FinanceDataReader 설치 (런타임 유형: Python 3)\n",
        "\n",
        "! pip install finance-datareader"
      ],
      "execution_count": 4,
      "outputs": [
        {
          "output_type": "stream",
          "text": [
            "Collecting finance-datareader\n",
            "  Downloading https://files.pythonhosted.org/packages/ba/da/44e2b687b6b7083bbfb16764b0f9013c33d775809828dae77ee1035cea70/finance_datareader-0.7.1-py3-none-any.whl\n",
            "Collecting requests-file (from finance-datareader)\n",
            "  Downloading https://files.pythonhosted.org/packages/23/9c/6e63c23c39e53d3df41c77a3d05a49a42c4e1383a6d2a5e3233161b89dbf/requests_file-1.4.3-py2.py3-none-any.whl\n",
            "Requirement already satisfied: pandas>=0.19.2 in /usr/local/lib/python3.6/dist-packages (from finance-datareader) (0.22.0)\n",
            "Requirement already satisfied: lxml in /usr/local/lib/python3.6/dist-packages (from finance-datareader) (4.2.5)\n",
            "Requirement already satisfied: requests>=2.3.0 in /usr/local/lib/python3.6/dist-packages (from finance-datareader) (2.18.4)\n",
            "Requirement already satisfied: six in /usr/local/lib/python3.6/dist-packages (from requests-file->finance-datareader) (1.11.0)\n",
            "Requirement already satisfied: numpy>=1.9.0 in /usr/local/lib/python3.6/dist-packages (from pandas>=0.19.2->finance-datareader) (1.14.6)\n",
            "Requirement already satisfied: python-dateutil>=2 in /usr/local/lib/python3.6/dist-packages (from pandas>=0.19.2->finance-datareader) (2.5.3)\n",
            "Requirement already satisfied: pytz>=2011k in /usr/local/lib/python3.6/dist-packages (from pandas>=0.19.2->finance-datareader) (2018.7)\n",
            "Requirement already satisfied: idna<2.7,>=2.5 in /usr/local/lib/python3.6/dist-packages (from requests>=2.3.0->finance-datareader) (2.6)\n",
            "Requirement already satisfied: certifi>=2017.4.17 in /usr/local/lib/python3.6/dist-packages (from requests>=2.3.0->finance-datareader) (2018.11.29)\n",
            "Requirement already satisfied: urllib3<1.23,>=1.21.1 in /usr/local/lib/python3.6/dist-packages (from requests>=2.3.0->finance-datareader) (1.22)\n",
            "Requirement already satisfied: chardet<3.1.0,>=3.0.2 in /usr/local/lib/python3.6/dist-packages (from requests>=2.3.0->finance-datareader) (3.0.4)\n",
            "Installing collected packages: requests-file, finance-datareader\n",
            "Successfully installed finance-datareader-0.7.1 requests-file-1.4.3\n"
          ],
          "name": "stdout"
        }
      ]
    },
    {
      "metadata": {
        "id": "L_z5Wt2Ja2em",
        "colab_type": "code",
        "colab": {
          "base_uri": "https://localhost:8080/",
          "height": 35
        },
        "outputId": "84ba2384-810f-4aac-989e-b76e502f352c"
      },
      "cell_type": "code",
      "source": [
        "import FinanceDataReader as fdr\n",
        "fdr.__version__"
      ],
      "execution_count": 5,
      "outputs": [
        {
          "output_type": "execute_result",
          "data": {
            "text/plain": [
              "'0.7.1'"
            ]
          },
          "metadata": {
            "tags": []
          },
          "execution_count": 5
        }
      ]
    },
    {
      "metadata": {
        "id": "tTW_Y8F8vA6s",
        "colab_type": "code",
        "colab": {}
      },
      "cell_type": "code",
      "source": [
        "\n",
        "%matplotlib inline\n",
        "import matplotlib.pyplot as plt\n",
        "\n",
        "plt.rcParams[\"axes.grid\"] = True\n",
        "plt.rcParams[\"figure.figsize\"] = (16,8)"
      ],
      "execution_count": 0,
      "outputs": []
    },
    {
      "metadata": {
        "id": "fJdbHHtBcCUZ",
        "colab_type": "text"
      },
      "cell_type": "markdown",
      "source": [
        "# 한 종목의 가격 가져오기"
      ]
    },
    {
      "metadata": {
        "id": "Z9snB_3wWrZb",
        "colab_type": "code",
        "outputId": "3937e55e-8be5-484c-d1e0-e8039e48f9ee",
        "colab": {
          "base_uri": "https://localhost:8080/",
          "height": 545
        }
      },
      "cell_type": "code",
      "source": [
        "import FinanceDataReader as fdr\n",
        "\n",
        "# KB Finance(105560)\n",
        "df = fdr.DataReader('105560', '2017-01-01', '2017-12-31')\n",
        "df.head(15)"
      ],
      "execution_count": 7,
      "outputs": [
        {
          "output_type": "execute_result",
          "data": {
            "text/html": [
              "<div>\n",
              "<style scoped>\n",
              "    .dataframe tbody tr th:only-of-type {\n",
              "        vertical-align: middle;\n",
              "    }\n",
              "\n",
              "    .dataframe tbody tr th {\n",
              "        vertical-align: top;\n",
              "    }\n",
              "\n",
              "    .dataframe thead th {\n",
              "        text-align: right;\n",
              "    }\n",
              "</style>\n",
              "<table border=\"1\" class=\"dataframe\">\n",
              "  <thead>\n",
              "    <tr style=\"text-align: right;\">\n",
              "      <th></th>\n",
              "      <th>Date</th>\n",
              "      <th>Open</th>\n",
              "      <th>High</th>\n",
              "      <th>Low</th>\n",
              "      <th>Close</th>\n",
              "      <th>Volume</th>\n",
              "      <th>Change</th>\n",
              "    </tr>\n",
              "    <tr>\n",
              "      <th>Date</th>\n",
              "      <th></th>\n",
              "      <th></th>\n",
              "      <th></th>\n",
              "      <th></th>\n",
              "      <th></th>\n",
              "      <th></th>\n",
              "      <th></th>\n",
              "    </tr>\n",
              "  </thead>\n",
              "  <tbody>\n",
              "    <tr>\n",
              "      <th>2017-01-02</th>\n",
              "      <td>2017-01-02</td>\n",
              "      <td>42800</td>\n",
              "      <td>43050</td>\n",
              "      <td>42250</td>\n",
              "      <td>42600</td>\n",
              "      <td>345769</td>\n",
              "      <td>-0.004673</td>\n",
              "    </tr>\n",
              "    <tr>\n",
              "      <th>2017-01-03</th>\n",
              "      <td>2017-01-03</td>\n",
              "      <td>42600</td>\n",
              "      <td>43750</td>\n",
              "      <td>42000</td>\n",
              "      <td>43700</td>\n",
              "      <td>956685</td>\n",
              "      <td>0.025822</td>\n",
              "    </tr>\n",
              "    <tr>\n",
              "      <th>2017-01-04</th>\n",
              "      <td>2017-01-04</td>\n",
              "      <td>43900</td>\n",
              "      <td>44400</td>\n",
              "      <td>43450</td>\n",
              "      <td>44150</td>\n",
              "      <td>831295</td>\n",
              "      <td>0.010297</td>\n",
              "    </tr>\n",
              "    <tr>\n",
              "      <th>2017-01-05</th>\n",
              "      <td>2017-01-05</td>\n",
              "      <td>44200</td>\n",
              "      <td>44200</td>\n",
              "      <td>42550</td>\n",
              "      <td>42800</td>\n",
              "      <td>1128957</td>\n",
              "      <td>-0.030578</td>\n",
              "    </tr>\n",
              "    <tr>\n",
              "      <th>2017-01-06</th>\n",
              "      <td>2017-01-06</td>\n",
              "      <td>43000</td>\n",
              "      <td>43000</td>\n",
              "      <td>42300</td>\n",
              "      <td>42650</td>\n",
              "      <td>1338299</td>\n",
              "      <td>-0.003505</td>\n",
              "    </tr>\n",
              "    <tr>\n",
              "      <th>2017-01-09</th>\n",
              "      <td>2017-01-09</td>\n",
              "      <td>42650</td>\n",
              "      <td>42700</td>\n",
              "      <td>42150</td>\n",
              "      <td>42400</td>\n",
              "      <td>795293</td>\n",
              "      <td>-0.005862</td>\n",
              "    </tr>\n",
              "    <tr>\n",
              "      <th>2017-01-10</th>\n",
              "      <td>2017-01-10</td>\n",
              "      <td>43000</td>\n",
              "      <td>43400</td>\n",
              "      <td>42650</td>\n",
              "      <td>43250</td>\n",
              "      <td>1093427</td>\n",
              "      <td>0.020047</td>\n",
              "    </tr>\n",
              "    <tr>\n",
              "      <th>2017-01-11</th>\n",
              "      <td>2017-01-11</td>\n",
              "      <td>42700</td>\n",
              "      <td>43700</td>\n",
              "      <td>42700</td>\n",
              "      <td>43350</td>\n",
              "      <td>912080</td>\n",
              "      <td>0.002312</td>\n",
              "    </tr>\n",
              "    <tr>\n",
              "      <th>2017-01-12</th>\n",
              "      <td>2017-01-12</td>\n",
              "      <td>43600</td>\n",
              "      <td>44100</td>\n",
              "      <td>43350</td>\n",
              "      <td>44100</td>\n",
              "      <td>1011997</td>\n",
              "      <td>0.017301</td>\n",
              "    </tr>\n",
              "    <tr>\n",
              "      <th>2017-01-13</th>\n",
              "      <td>2017-01-13</td>\n",
              "      <td>43500</td>\n",
              "      <td>44300</td>\n",
              "      <td>43400</td>\n",
              "      <td>43850</td>\n",
              "      <td>861598</td>\n",
              "      <td>-0.005669</td>\n",
              "    </tr>\n",
              "    <tr>\n",
              "      <th>2017-01-16</th>\n",
              "      <td>2017-01-16</td>\n",
              "      <td>44100</td>\n",
              "      <td>45250</td>\n",
              "      <td>43950</td>\n",
              "      <td>45150</td>\n",
              "      <td>1474423</td>\n",
              "      <td>0.029647</td>\n",
              "    </tr>\n",
              "    <tr>\n",
              "      <th>2017-01-17</th>\n",
              "      <td>2017-01-17</td>\n",
              "      <td>45300</td>\n",
              "      <td>46100</td>\n",
              "      <td>45100</td>\n",
              "      <td>45850</td>\n",
              "      <td>1222286</td>\n",
              "      <td>0.015504</td>\n",
              "    </tr>\n",
              "    <tr>\n",
              "      <th>2017-01-18</th>\n",
              "      <td>2017-01-18</td>\n",
              "      <td>45400</td>\n",
              "      <td>46000</td>\n",
              "      <td>45100</td>\n",
              "      <td>45800</td>\n",
              "      <td>611897</td>\n",
              "      <td>-0.001091</td>\n",
              "    </tr>\n",
              "    <tr>\n",
              "      <th>2017-01-19</th>\n",
              "      <td>2017-01-19</td>\n",
              "      <td>45400</td>\n",
              "      <td>46200</td>\n",
              "      <td>45400</td>\n",
              "      <td>45550</td>\n",
              "      <td>467486</td>\n",
              "      <td>-0.005459</td>\n",
              "    </tr>\n",
              "    <tr>\n",
              "      <th>2017-01-20</th>\n",
              "      <td>2017-01-20</td>\n",
              "      <td>45300</td>\n",
              "      <td>45850</td>\n",
              "      <td>45300</td>\n",
              "      <td>45400</td>\n",
              "      <td>587244</td>\n",
              "      <td>-0.003293</td>\n",
              "    </tr>\n",
              "  </tbody>\n",
              "</table>\n",
              "</div>"
            ],
            "text/plain": [
              "                 Date   Open   High    Low  Close   Volume    Change\n",
              "Date                                                                \n",
              "2017-01-02 2017-01-02  42800  43050  42250  42600   345769 -0.004673\n",
              "2017-01-03 2017-01-03  42600  43750  42000  43700   956685  0.025822\n",
              "2017-01-04 2017-01-04  43900  44400  43450  44150   831295  0.010297\n",
              "2017-01-05 2017-01-05  44200  44200  42550  42800  1128957 -0.030578\n",
              "2017-01-06 2017-01-06  43000  43000  42300  42650  1338299 -0.003505\n",
              "2017-01-09 2017-01-09  42650  42700  42150  42400   795293 -0.005862\n",
              "2017-01-10 2017-01-10  43000  43400  42650  43250  1093427  0.020047\n",
              "2017-01-11 2017-01-11  42700  43700  42700  43350   912080  0.002312\n",
              "2017-01-12 2017-01-12  43600  44100  43350  44100  1011997  0.017301\n",
              "2017-01-13 2017-01-13  43500  44300  43400  43850   861598 -0.005669\n",
              "2017-01-16 2017-01-16  44100  45250  43950  45150  1474423  0.029647\n",
              "2017-01-17 2017-01-17  45300  46100  45100  45850  1222286  0.015504\n",
              "2017-01-18 2017-01-18  45400  46000  45100  45800   611897 -0.001091\n",
              "2017-01-19 2017-01-19  45400  46200  45400  45550   467486 -0.005459\n",
              "2017-01-20 2017-01-20  45300  45850  45300  45400   587244 -0.003293"
            ]
          },
          "metadata": {
            "tags": []
          },
          "execution_count": 7
        }
      ]
    },
    {
      "metadata": {
        "id": "50SQaXg0bjPS",
        "colab_type": "text"
      },
      "cell_type": "markdown",
      "source": [
        "# 여러 종목의 종가(Close) 가져오기\n",
        "* ticker 리스트의 종가(Close) 가져와 리스트로 만들기\n",
        "* pd.concat()로 합치기"
      ]
    },
    {
      "metadata": {
        "id": "TeCplSQtvzHA",
        "colab_type": "code",
        "colab": {}
      },
      "cell_type": "code",
      "source": [
        "df_krx = fdr.StockListing('KRX')\n",
        "tiker_list = list(df_krx.Symbol)"
      ],
      "execution_count": 0,
      "outputs": []
    },
    {
      "metadata": {
        "id": "PvS9XwQFX6wn",
        "colab_type": "code",
        "outputId": "57fd8022-dde8-4943-a0d9-6e22aade8540",
        "colab": {
          "base_uri": "https://localhost:8080/",
          "height": 35
        }
      },
      "cell_type": "code",
      "source": [
        "import os\n",
        "os.chdir(\"..\")\n",
        "os.chdir(\"home\")\n",
        "os.getcwd()\n",
        "\n"
      ],
      "execution_count": 15,
      "outputs": [
        {
          "output_type": "execute_result",
          "data": {
            "text/plain": [
              "'/home'"
            ]
          },
          "metadata": {
            "tags": []
          },
          "execution_count": 15
        }
      ]
    },
    {
      "metadata": {
        "id": "WqtlpFrDysH-",
        "colab_type": "code",
        "colab": {
          "base_uri": "https://localhost:8080/",
          "height": 204
        },
        "outputId": "655b1514-a690-4041-cca1-41f5e433bd2a"
      },
      "cell_type": "code",
      "source": [
        "df_krx.head()"
      ],
      "execution_count": 48,
      "outputs": [
        {
          "output_type": "execute_result",
          "data": {
            "text/html": [
              "<div>\n",
              "<style scoped>\n",
              "    .dataframe tbody tr th:only-of-type {\n",
              "        vertical-align: middle;\n",
              "    }\n",
              "\n",
              "    .dataframe tbody tr th {\n",
              "        vertical-align: top;\n",
              "    }\n",
              "\n",
              "    .dataframe thead th {\n",
              "        text-align: right;\n",
              "    }\n",
              "</style>\n",
              "<table border=\"1\" class=\"dataframe\">\n",
              "  <thead>\n",
              "    <tr style=\"text-align: right;\">\n",
              "      <th></th>\n",
              "      <th>Symbol</th>\n",
              "      <th>Name</th>\n",
              "      <th>Sector</th>\n",
              "      <th>Industry</th>\n",
              "    </tr>\n",
              "  </thead>\n",
              "  <tbody>\n",
              "    <tr>\n",
              "      <th>0</th>\n",
              "      <td>001040</td>\n",
              "      <td>CJ</td>\n",
              "      <td>기타 금융업</td>\n",
              "      <td>지주회사</td>\n",
              "    </tr>\n",
              "    <tr>\n",
              "      <th>1</th>\n",
              "      <td>011150</td>\n",
              "      <td>CJ씨푸드</td>\n",
              "      <td>기타 식품 제조업</td>\n",
              "      <td>수산물(어묵,맛살)가공품 도매,원양수산업,수출입</td>\n",
              "    </tr>\n",
              "    <tr>\n",
              "      <th>2</th>\n",
              "      <td>082740</td>\n",
              "      <td>HSD엔진</td>\n",
              "      <td>일반 목적용 기계 제조업</td>\n",
              "      <td>대형선박용엔진,내연발전엔진</td>\n",
              "    </tr>\n",
              "    <tr>\n",
              "      <th>3</th>\n",
              "      <td>001390</td>\n",
              "      <td>KG케미칼</td>\n",
              "      <td>기초 화학물질 제조업</td>\n",
              "      <td>콘크리트혼화제, 비료, 친환경농자재, 수처리제</td>\n",
              "    </tr>\n",
              "    <tr>\n",
              "      <th>4</th>\n",
              "      <td>010060</td>\n",
              "      <td>OCI</td>\n",
              "      <td>기초 화학물질 제조업</td>\n",
              "      <td>타르제품,카본블랙,무수프탈산,농약원제,석탄화학제품,정밀화학제품,플라스틱창호재 제조,판매</td>\n",
              "    </tr>\n",
              "  </tbody>\n",
              "</table>\n",
              "</div>"
            ],
            "text/plain": [
              "   Symbol   Name         Sector  \\\n",
              "0  001040     CJ         기타 금융업   \n",
              "1  011150  CJ씨푸드      기타 식품 제조업   \n",
              "2  082740  HSD엔진  일반 목적용 기계 제조업   \n",
              "3  001390  KG케미칼    기초 화학물질 제조업   \n",
              "4  010060    OCI    기초 화학물질 제조업   \n",
              "\n",
              "                                           Industry  \n",
              "0                                              지주회사  \n",
              "1                        수산물(어묵,맛살)가공품 도매,원양수산업,수출입  \n",
              "2                                    대형선박용엔진,내연발전엔진  \n",
              "3                         콘크리트혼화제, 비료, 친환경농자재, 수처리제  \n",
              "4  타르제품,카본블랙,무수프탈산,농약원제,석탄화학제품,정밀화학제품,플라스틱창호재 제조,판매  "
            ]
          },
          "metadata": {
            "tags": []
          },
          "execution_count": 48
        }
      ]
    },
    {
      "metadata": {
        "id": "JmFmrcaVv7LK",
        "colab_type": "code",
        "colab": {
          "base_uri": "https://localhost:8080/",
          "height": 35
        },
        "outputId": "cffead3e-2f5d-4c9d-ebb7-ba5506f3615b"
      },
      "cell_type": "code",
      "source": [
        "# ticker 리스트의 종가(Close) 가져와 리스트로 만들기\n",
        "\n",
        "import pandas as pd\n",
        "\n",
        "\n",
        "df_list_volume = [fdr.DataReader(ticker, '2000-01-01', '2018-12-28')['Volume'] for ticker in tiker_list]\n",
        "\n",
        "len(df_list_volume)"
      ],
      "execution_count": 49,
      "outputs": [
        {
          "output_type": "execute_result",
          "data": {
            "text/plain": [
              "2264"
            ]
          },
          "metadata": {
            "tags": []
          },
          "execution_count": 49
        }
      ]
    },
    {
      "metadata": {
        "id": "QzM8OH89z8OS",
        "colab_type": "code",
        "colab": {}
      },
      "cell_type": "code",
      "source": [
        "df_krx_name_code_list = []\n",
        "for i in range(len(df_krx)):\n",
        "    name_and_code= df_krx.iloc[i].Name + '(' + df_krx.iloc[i].Symbol + ')'\n",
        "    df_krx_name_code_list.append(name_and_code)"
      ],
      "execution_count": 0,
      "outputs": []
    },
    {
      "metadata": {
        "id": "0FJt7wymYT2M",
        "colab_type": "code",
        "outputId": "7cb87331-f026-4350-b506-77eae6f68879",
        "colab": {
          "base_uri": "https://localhost:8080/",
          "height": 244
        }
      },
      "cell_type": "code",
      "source": [
        "# pd.concat()로 합치기\n",
        "import pandas as pd\n",
        "df_stock_data_volume=pd.concat(df_list_volume, axis=1)\n",
        "df_stock_data_volume.columns = df_krx_name_code_list\n",
        "#df_stock_data = df_stock_data.dropna()\n",
        "df_stock_data_volume.head()"
      ],
      "execution_count": 2,
      "outputs": [
        {
          "output_type": "error",
          "ename": "NameError",
          "evalue": "ignored",
          "traceback": [
            "\u001b[0;31m---------------------------------------------------------------------------\u001b[0m",
            "\u001b[0;31mNameError\u001b[0m                                 Traceback (most recent call last)",
            "\u001b[0;32m<ipython-input-2-dca8a1e2c80e>\u001b[0m in \u001b[0;36m<module>\u001b[0;34m()\u001b[0m\n\u001b[1;32m      1\u001b[0m \u001b[0;32mimport\u001b[0m \u001b[0mpandas\u001b[0m \u001b[0;32mas\u001b[0m \u001b[0mpd\u001b[0m\u001b[0;34m\u001b[0m\u001b[0;34m\u001b[0m\u001b[0m\n\u001b[0;32m----> 2\u001b[0;31m \u001b[0mdf_stock_data_volume\u001b[0m\u001b[0;34m=\u001b[0m\u001b[0mpd\u001b[0m\u001b[0;34m.\u001b[0m\u001b[0mconcat\u001b[0m\u001b[0;34m(\u001b[0m\u001b[0mdf_list_volume\u001b[0m\u001b[0;34m,\u001b[0m \u001b[0maxis\u001b[0m\u001b[0;34m=\u001b[0m\u001b[0;36m1\u001b[0m\u001b[0;34m)\u001b[0m\u001b[0;34m\u001b[0m\u001b[0;34m\u001b[0m\u001b[0m\n\u001b[0m\u001b[1;32m      3\u001b[0m \u001b[0mdf_stock_data_volume\u001b[0m\u001b[0;34m.\u001b[0m\u001b[0mcolumns\u001b[0m \u001b[0;34m=\u001b[0m \u001b[0mdf_krx_name_code_list\u001b[0m\u001b[0;34m\u001b[0m\u001b[0;34m\u001b[0m\u001b[0m\n\u001b[1;32m      4\u001b[0m \u001b[0;31m#df_stock_data = df_stock_data.dropna()\u001b[0m\u001b[0;34m\u001b[0m\u001b[0;34m\u001b[0m\u001b[0;34m\u001b[0m\u001b[0m\n\u001b[1;32m      5\u001b[0m \u001b[0mdf_stock_data_volume\u001b[0m\u001b[0;34m.\u001b[0m\u001b[0mhead\u001b[0m\u001b[0;34m(\u001b[0m\u001b[0;34m)\u001b[0m\u001b[0;34m\u001b[0m\u001b[0;34m\u001b[0m\u001b[0m\n",
            "\u001b[0;31mNameError\u001b[0m: name 'df_list_volume' is not defined"
          ]
        }
      ]
    },
    {
      "metadata": {
        "id": "EZ0llduGz6FS",
        "colab_type": "code",
        "colab": {
          "base_uri": "https://localhost:8080/",
          "height": 420
        },
        "outputId": "f8309c42-6e75-475a-eeeb-c7037bcef7b9"
      },
      "cell_type": "code",
      "source": [
        "df_stock_data.tail()"
      ],
      "execution_count": 44,
      "outputs": [
        {
          "output_type": "execute_result",
          "data": {
            "text/html": [
              "<div>\n",
              "<style scoped>\n",
              "    .dataframe tbody tr th:only-of-type {\n",
              "        vertical-align: middle;\n",
              "    }\n",
              "\n",
              "    .dataframe tbody tr th {\n",
              "        vertical-align: top;\n",
              "    }\n",
              "\n",
              "    .dataframe thead th {\n",
              "        text-align: right;\n",
              "    }\n",
              "</style>\n",
              "<table border=\"1\" class=\"dataframe\">\n",
              "  <thead>\n",
              "    <tr style=\"text-align: right;\">\n",
              "      <th></th>\n",
              "      <th>CJ(001040)</th>\n",
              "      <th>CJ씨푸드(011150)</th>\n",
              "      <th>HSD엔진(082740)</th>\n",
              "      <th>KG케미칼(001390)</th>\n",
              "      <th>OCI(010060)</th>\n",
              "      <th>SH에너지화학(002360)</th>\n",
              "      <th>SK네트웍스(001740)</th>\n",
              "      <th>SK케미칼(285130)</th>\n",
              "      <th>STX(011810)</th>\n",
              "      <th>WISCOM(024070)</th>\n",
              "      <th>...</th>\n",
              "      <th>엔케이맥스(262760)</th>\n",
              "      <th>엘피케이(183350)</th>\n",
              "      <th>인프라웨어테크놀러지(247300)</th>\n",
              "      <th>제이에스피브이(250300)</th>\n",
              "      <th>지앤이헬스케어(299480)</th>\n",
              "      <th>툴젠(199800)</th>\n",
              "      <th>티씨엠생명과학(228180)</th>\n",
              "      <th>틸론(217880)</th>\n",
              "      <th>파인이엠텍(278990)</th>\n",
              "      <th>판도라티비(202960)</th>\n",
              "    </tr>\n",
              "    <tr>\n",
              "      <th>Date</th>\n",
              "      <th></th>\n",
              "      <th></th>\n",
              "      <th></th>\n",
              "      <th></th>\n",
              "      <th></th>\n",
              "      <th></th>\n",
              "      <th></th>\n",
              "      <th></th>\n",
              "      <th></th>\n",
              "      <th></th>\n",
              "      <th></th>\n",
              "      <th></th>\n",
              "      <th></th>\n",
              "      <th></th>\n",
              "      <th></th>\n",
              "      <th></th>\n",
              "      <th></th>\n",
              "      <th></th>\n",
              "      <th></th>\n",
              "      <th></th>\n",
              "      <th></th>\n",
              "    </tr>\n",
              "  </thead>\n",
              "  <tbody>\n",
              "    <tr>\n",
              "      <th>2018-12-21</th>\n",
              "      <td>128715.0</td>\n",
              "      <td>2405.0</td>\n",
              "      <td>5370.0</td>\n",
              "      <td>17500.0</td>\n",
              "      <td>110500.0</td>\n",
              "      <td>1135.0</td>\n",
              "      <td>4910.0</td>\n",
              "      <td>72100.0</td>\n",
              "      <td>11500.0</td>\n",
              "      <td>2785.0</td>\n",
              "      <td>...</td>\n",
              "      <td>7550.0</td>\n",
              "      <td>2690.0</td>\n",
              "      <td>846.0</td>\n",
              "      <td>1435.0</td>\n",
              "      <td>3100.0</td>\n",
              "      <td>87500.0</td>\n",
              "      <td>19500.0</td>\n",
              "      <td>5500.0</td>\n",
              "      <td>4100.0</td>\n",
              "      <td>1240.0</td>\n",
              "    </tr>\n",
              "    <tr>\n",
              "      <th>2018-12-24</th>\n",
              "      <td>126357.0</td>\n",
              "      <td>2355.0</td>\n",
              "      <td>5300.0</td>\n",
              "      <td>17550.0</td>\n",
              "      <td>111000.0</td>\n",
              "      <td>1110.0</td>\n",
              "      <td>5000.0</td>\n",
              "      <td>71300.0</td>\n",
              "      <td>11250.0</td>\n",
              "      <td>2765.0</td>\n",
              "      <td>...</td>\n",
              "      <td>7500.0</td>\n",
              "      <td>2760.0</td>\n",
              "      <td>756.0</td>\n",
              "      <td>1435.0</td>\n",
              "      <td>2925.0</td>\n",
              "      <td>87700.0</td>\n",
              "      <td>20000.0</td>\n",
              "      <td>6290.0</td>\n",
              "      <td>4100.0</td>\n",
              "      <td>1240.0</td>\n",
              "    </tr>\n",
              "    <tr>\n",
              "      <th>2018-12-26</th>\n",
              "      <td>124000.0</td>\n",
              "      <td>2265.0</td>\n",
              "      <td>5250.0</td>\n",
              "      <td>17300.0</td>\n",
              "      <td>103500.0</td>\n",
              "      <td>1075.0</td>\n",
              "      <td>4990.0</td>\n",
              "      <td>70500.0</td>\n",
              "      <td>11250.0</td>\n",
              "      <td>2790.0</td>\n",
              "      <td>...</td>\n",
              "      <td>7890.0</td>\n",
              "      <td>2900.0</td>\n",
              "      <td>670.0</td>\n",
              "      <td>1435.0</td>\n",
              "      <td>2925.0</td>\n",
              "      <td>85200.0</td>\n",
              "      <td>20450.0</td>\n",
              "      <td>7230.0</td>\n",
              "      <td>4100.0</td>\n",
              "      <td>1100.0</td>\n",
              "    </tr>\n",
              "    <tr>\n",
              "      <th>2018-12-27</th>\n",
              "      <td>120500.0</td>\n",
              "      <td>2270.0</td>\n",
              "      <td>5200.0</td>\n",
              "      <td>17600.0</td>\n",
              "      <td>104500.0</td>\n",
              "      <td>1095.0</td>\n",
              "      <td>5270.0</td>\n",
              "      <td>69800.0</td>\n",
              "      <td>11350.0</td>\n",
              "      <td>2805.0</td>\n",
              "      <td>...</td>\n",
              "      <td>7400.0</td>\n",
              "      <td>2900.0</td>\n",
              "      <td>603.0</td>\n",
              "      <td>1435.0</td>\n",
              "      <td>2925.0</td>\n",
              "      <td>94700.0</td>\n",
              "      <td>19050.0</td>\n",
              "      <td>7080.0</td>\n",
              "      <td>4100.0</td>\n",
              "      <td>1205.0</td>\n",
              "    </tr>\n",
              "    <tr>\n",
              "      <th>2018-12-28</th>\n",
              "      <td>121500.0</td>\n",
              "      <td>2320.0</td>\n",
              "      <td>5280.0</td>\n",
              "      <td>17400.0</td>\n",
              "      <td>107000.0</td>\n",
              "      <td>1100.0</td>\n",
              "      <td>5200.0</td>\n",
              "      <td>70000.0</td>\n",
              "      <td>11750.0</td>\n",
              "      <td>2750.0</td>\n",
              "      <td>...</td>\n",
              "      <td>7380.0</td>\n",
              "      <td>2900.0</td>\n",
              "      <td>580.0</td>\n",
              "      <td>1435.0</td>\n",
              "      <td>2925.0</td>\n",
              "      <td>100000.0</td>\n",
              "      <td>20050.0</td>\n",
              "      <td>6900.0</td>\n",
              "      <td>4100.0</td>\n",
              "      <td>1200.0</td>\n",
              "    </tr>\n",
              "  </tbody>\n",
              "</table>\n",
              "<p>5 rows × 2264 columns</p>\n",
              "</div>"
            ],
            "text/plain": [
              "            CJ(001040)  CJ씨푸드(011150)  HSD엔진(082740)  KG케미칼(001390)  \\\n",
              "Date                                                                  \n",
              "2018-12-21    128715.0         2405.0         5370.0        17500.0   \n",
              "2018-12-24    126357.0         2355.0         5300.0        17550.0   \n",
              "2018-12-26    124000.0         2265.0         5250.0        17300.0   \n",
              "2018-12-27    120500.0         2270.0         5200.0        17600.0   \n",
              "2018-12-28    121500.0         2320.0         5280.0        17400.0   \n",
              "\n",
              "            OCI(010060)  SH에너지화학(002360)  SK네트웍스(001740)  SK케미칼(285130)  \\\n",
              "Date                                                                      \n",
              "2018-12-21     110500.0           1135.0          4910.0        72100.0   \n",
              "2018-12-24     111000.0           1110.0          5000.0        71300.0   \n",
              "2018-12-26     103500.0           1075.0          4990.0        70500.0   \n",
              "2018-12-27     104500.0           1095.0          5270.0        69800.0   \n",
              "2018-12-28     107000.0           1100.0          5200.0        70000.0   \n",
              "\n",
              "            STX(011810)  WISCOM(024070)      ...        엔케이맥스(262760)  \\\n",
              "Date                                         ...                        \n",
              "2018-12-21      11500.0          2785.0      ...               7550.0   \n",
              "2018-12-24      11250.0          2765.0      ...               7500.0   \n",
              "2018-12-26      11250.0          2790.0      ...               7890.0   \n",
              "2018-12-27      11350.0          2805.0      ...               7400.0   \n",
              "2018-12-28      11750.0          2750.0      ...               7380.0   \n",
              "\n",
              "            엘피케이(183350)  인프라웨어테크놀러지(247300)  제이에스피브이(250300)  \\\n",
              "Date                                                            \n",
              "2018-12-21        2690.0               846.0           1435.0   \n",
              "2018-12-24        2760.0               756.0           1435.0   \n",
              "2018-12-26        2900.0               670.0           1435.0   \n",
              "2018-12-27        2900.0               603.0           1435.0   \n",
              "2018-12-28        2900.0               580.0           1435.0   \n",
              "\n",
              "            지앤이헬스케어(299480)  툴젠(199800)  티씨엠생명과학(228180)  틸론(217880)  \\\n",
              "Date                                                                   \n",
              "2018-12-21           3100.0     87500.0          19500.0      5500.0   \n",
              "2018-12-24           2925.0     87700.0          20000.0      6290.0   \n",
              "2018-12-26           2925.0     85200.0          20450.0      7230.0   \n",
              "2018-12-27           2925.0     94700.0          19050.0      7080.0   \n",
              "2018-12-28           2925.0    100000.0          20050.0      6900.0   \n",
              "\n",
              "            파인이엠텍(278990)  판도라티비(202960)  \n",
              "Date                                      \n",
              "2018-12-21         4100.0         1240.0  \n",
              "2018-12-24         4100.0         1240.0  \n",
              "2018-12-26         4100.0         1100.0  \n",
              "2018-12-27         4100.0         1205.0  \n",
              "2018-12-28         4100.0         1200.0  \n",
              "\n",
              "[5 rows x 2264 columns]"
            ]
          },
          "metadata": {
            "tags": []
          },
          "execution_count": 44
        }
      ]
    },
    {
      "metadata": {
        "id": "ktG2T549K2g_",
        "colab_type": "code",
        "colab": {}
      },
      "cell_type": "code",
      "source": [
        "df_stock_data_volume.to_csv('2000-2018_stock_data_volume.csv')\n",
        "# df_krx.to_csv('krx_company_list_20181228.csv')"
      ],
      "execution_count": 0,
      "outputs": []
    },
    {
      "metadata": {
        "id": "oMTcdpPlLBze",
        "colab_type": "code",
        "colab": {
          "base_uri": "https://localhost:8080/",
          "height": 35
        },
        "outputId": "3b75c754-d7fd-498b-a2fc-6762da28bef1"
      },
      "cell_type": "code",
      "source": [
        "os.listdir()"
      ],
      "execution_count": 46,
      "outputs": [
        {
          "output_type": "execute_result",
          "data": {
            "text/plain": [
              "['krx_company_list_20181228.csv', '2000-2018_stock_data.csv']"
            ]
          },
          "metadata": {
            "tags": []
          },
          "execution_count": 46
        }
      ]
    },
    {
      "metadata": {
        "id": "QtXqph2ddRg-",
        "colab_type": "text"
      },
      "cell_type": "markdown",
      "source": [
        "# 개별 종목의 2017년 수익률 비교\n"
      ]
    },
    {
      "metadata": {
        "id": "05Sk4g1zYVKu",
        "colab_type": "code",
        "outputId": "9b3062e9-2669-4984-e0c1-aa1e750b675c",
        "colab": {
          "base_uri": "https://localhost:8080/",
          "height": 489
        }
      },
      "cell_type": "code",
      "source": [
        "# 정규화: 가격의 시작을 1.0 으로\n",
        "\n",
        "df_norm = df / df.iloc[0]\n",
        "df_norm.plot()"
      ],
      "execution_count": 0,
      "outputs": [
        {
          "output_type": "execute_result",
          "data": {
            "text/plain": [
              "<matplotlib.axes._subplots.AxesSubplot at 0x7fdf5faad470>"
            ]
          },
          "metadata": {
            "tags": []
          },
          "execution_count": 6
        },
        {
          "output_type": "display_data",
          "data": {
            "image/png": "[encoded data removed]",
            "text/plain": [
              "<matplotlib.figure.Figure at 0x7fdf5ea2ebe0>"
            ]
          },
          "metadata": {
            "tags": []
          }
        }
      ]
    },
    {
      "metadata": {
        "id": "RlIdbMGLc96u",
        "colab_type": "text"
      },
      "cell_type": "markdown",
      "source": [
        "### 2018 FianceData.KR http://fb.com/fiancedata"
      ]
    }
  ]
}